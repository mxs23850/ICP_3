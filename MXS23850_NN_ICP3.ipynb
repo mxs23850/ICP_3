{
 "cells": [
  {
   "cell_type": "markdown",
   "metadata": {
    "id": "64kVQKV3KLNz"
   },
   "source": [
    "1. Create a class Employee and then do the following:\n",
    "\n",
    "* Create a data member to count the number of Employees\n",
    "* Create a constructor to initialize name, family, salary, department\n",
    "* Create a function to average salary\n",
    "* Create a Fulltime Employee class and it should inherit the properties of Employee class\n",
    "* Create the instances of Fulltime Employee class and Employee class and call their member functions.\n"
   ]
  },
  {
   "cell_type": "code",
   "execution_count": 1,
   "metadata": {
    "colab": {
     "base_uri": "https://localhost:8080/"
    },
    "id": "yIh8aPIAKGHp",
    "outputId": "4b2b8c41-39ed-4c89-df49-121d006601a4"
   },
   "outputs": [
    {
     "name": "stdout",
     "output_type": "stream",
     "text": [
      "Average Salary for Employees: 47500.0\n",
      "Average Salary for Fulltime Employees: 37500.0\n"
     ]
    }
   ],
   "source": [
    "class Employee:\n",
    "    employee_count = 0  # Data member to count the number of Employees\n",
    "\n",
    "    def __init__(self, name, family, salary, department):\n",
    "        self.name = name\n",
    "        self.family = family\n",
    "        self.salary = salary\n",
    "        self.department = department\n",
    "        Employee.employee_count += 1\n",
    "\n",
    "    def average_salary(self, total_salary):\n",
    "        return total_salary / Employee.employee_count\n",
    "\n",
    "class FulltimeEmployee(Employee):\n",
    "    # Inheriting properties from the Employee class\n",
    "    pass\n",
    "\n",
    "# Creating instances of Employee class\n",
    "employee1 = Employee(\"mansur\", \"shaik\", 100000, \"HR\")\n",
    "employee2 = Employee(\"khasim\", \"shaik\", 90000, \"IT\")\n",
    "\n",
    "# Creating instances of FulltimeEmployee class\n",
    "fulltime_employee1 = FulltimeEmployee(\"bilal\", \"Gangi\", 80000, \"Finance\")\n",
    "fulltime_employee2 = FulltimeEmployee(\"nava\", \"Gangi\", 70000, \"Marketing\")\n",
    "\n",
    "# Calling member functions\n",
    "total_salary_employees = employee1.salary + employee2.salary\n",
    "average_salary_employees = employee1.average_salary(total_salary_employees)\n",
    "\n",
    "total_salary_fulltime_employees = fulltime_employee1.salary + fulltime_employee2.salary\n",
    "average_salary_fulltime_employees = fulltime_employee1.average_salary(total_salary_fulltime_employees)\n",
    "\n",
    "# Displaying results\n",
    "print(\"Average Salary for Employees:\", average_salary_employees)\n",
    "print(\"Average Salary for Fulltime Employees:\", average_salary_fulltime_employees)\n"
   ]
  },
  {
   "cell_type": "markdown",
   "metadata": {
    "id": "dFUTBSUEM5DZ"
   },
   "source": [
    "Using NumPy:\n",
    "\n",
    "* create random vector of size 20 having only float in the range 1-20.\n",
    "* Then reshape the array to 4 by 5\n",
    "* Then replace the max in each row by 0 (axis=1)\n",
    "\n",
    "Note: (you can NOT implement it via for loop)"
   ]
  },
  {
   "cell_type": "code",
   "execution_count": 8,
   "metadata": {
    "colab": {
     "base_uri": "https://localhost:8080/"
    },
    "id": "H1wR8tyhNGgU",
    "outputId": "b1f65f2e-0091-4160-c305-501212066141"
   },
   "outputs": [
    {
     "name": "stdout",
     "output_type": "stream",
     "text": [
      "Original Random Vector:\n",
      " [ 2.77180358 10.00637348 16.86616228  5.01560061 12.49094748  2.6903779\n",
      " 16.1301691  13.3544305   4.28187936  3.09106015 19.20555751 11.89196345\n",
      " 14.63234498 11.91538557 19.16973408  4.00768146  1.9696587   2.33131909\n",
      "  4.6092697  11.9547249 ]\n"
     ]
    }
   ],
   "source": [
    "# Import the NumPy library and alias it as 'np' for brevity and convention.\n",
    "import numpy as np\n",
    "\n",
    "# Create a random vector of size 20 with floats in the range 1-20\n",
    "random_vector = np.random.uniform(1, 20, 20)\n",
    "\n",
    "print(\"Original Random Vector:\\n\", random_vector)"
   ]
  },
  {
   "cell_type": "code",
   "execution_count": 12,
   "metadata": {
    "colab": {
     "base_uri": "https://localhost:8080/"
    },
    "id": "16ZJuYvcNcTS",
    "outputId": "d0ff1ed1-3ff5-4335-8b83-7ede90bc77c8"
   },
   "outputs": [
    {
     "name": "stdout",
     "output_type": "stream",
     "text": [
      "[[ 2.77180358 10.00637348 16.86616228  5.01560061 12.49094748]\n",
      " [ 2.6903779  16.1301691  13.3544305   4.28187936  3.09106015]\n",
      " [19.20555751 11.89196345 14.63234498 11.91538557 19.16973408]\n",
      " [ 4.00768146  1.9696587   2.33131909  4.6092697  11.9547249 ]]\n"
     ]
    }
   ],
   "source": [
    "# Reshape the array to 4 by 5 (4 rows and 5 columns)\n",
    "reshaped_array = random_vector.reshape(4, 5)\n",
    "\n",
    "print(reshaped_array)"
   ]
  },
  {
   "cell_type": "code",
   "execution_count": 13,
   "metadata": {
    "colab": {
     "base_uri": "https://localhost:8080/"
    },
    "id": "PWYPSVK5NYeA",
    "outputId": "270c02f8-39df-4d9e-8f86-fe1f034629ca"
   },
   "outputs": [
    {
     "name": "stdout",
     "output_type": "stream",
     "text": [
      "Reshaped Array:\n",
      " [[ 2.77180358 10.00637348  0.          5.01560061 12.49094748]\n",
      " [ 2.6903779   0.         13.3544305   4.28187936  3.09106015]\n",
      " [ 0.         11.89196345 14.63234498 11.91538557 19.16973408]\n",
      " [ 4.00768146  1.9696587   2.33131909  4.6092697   0.        ]]\n"
     ]
    }
   ],
   "source": [
    "# Replace the max in each row by 0 (axis=1)\n",
    "reshaped_array[np.arange(4), reshaped_array.argmax(axis=1)] = 0\n",
    "\n",
    "print(\"Reshaped Array:\\n\", reshaped_array)"
   ]
  }
 ],
 "metadata": {
  "colab": {
   "provenance": []
  },
  "kernelspec": {
   "display_name": "Python 3 (ipykernel)",
   "language": "python",
   "name": "python3"
  },
  "language_info": {
   "codemirror_mode": {
    "name": "ipython",
    "version": 3
   },
   "file_extension": ".py",
   "mimetype": "text/x-python",
   "name": "python",
   "nbconvert_exporter": "python",
   "pygments_lexer": "ipython3",
   "version": "3.9.13"
  }
 },
 "nbformat": 4,
 "nbformat_minor": 1
}
